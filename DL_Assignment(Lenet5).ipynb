{
  "nbformat": 4,
  "nbformat_minor": 0,
  "metadata": {
    "colab": {
      "name": "DL Assignment(Lenet5).ipynb",
      "provenance": [],
      "machine_shape": "hm"
    },
    "kernelspec": {
      "name": "python3",
      "display_name": "Python 3"
    }
  },
  "cells": [
    {
      "cell_type": "code",
      "metadata": {
        "id": "p0wbTNe4PDZV",
        "colab_type": "code",
        "colab": {}
      },
      "source": [
        "from google.colab import drive\n",
        "drive.mount('/content/drive')"
      ],
      "execution_count": 0,
      "outputs": []
    },
    {
      "cell_type": "code",
      "metadata": {
        "id": "HKV4XrhtPPxi",
        "colab_type": "code",
        "colab": {}
      },
      "source": [
        "import os\n",
        "os.chdir('/content/drive/My Drive/Colab Notebooks/DL/')"
      ],
      "execution_count": 0,
      "outputs": []
    },
    {
      "cell_type": "code",
      "metadata": {
        "id": "apJdFhvnPjV_",
        "colab_type": "code",
        "outputId": "d9a413e0-9882-4c0c-b554-3cd34c22d174",
        "colab": {
          "base_uri": "https://localhost:8080/",
          "height": 51
        }
      },
      "source": [
        "import numpy as np\n",
        "a=np.load(\"s_x_train.npy\")\n",
        "b=np.load(\"s_y_train.npy\")\n",
        "print(a.shape)\n",
        "print(b.shape)"
      ],
      "execution_count": 0,
      "outputs": [
        {
          "output_type": "stream",
          "text": [
            "(5040, 300, 300, 3)\n",
            "(5040,)\n"
          ],
          "name": "stdout"
        }
      ]
    },
    {
      "cell_type": "code",
      "metadata": {
        "id": "7Mq10tvjXQmE",
        "colab_type": "code",
        "colab": {}
      },
      "source": [
        "%tensorflow_version 2.x"
      ],
      "execution_count": 0,
      "outputs": []
    },
    {
      "cell_type": "code",
      "metadata": {
        "id": "PkOuQSs5PmSA",
        "colab_type": "code",
        "colab": {}
      },
      "source": [
        "import tensorflow as tf\n",
        "\n",
        "from tensorflow.keras import layers, models\n",
        "import matplotlib.pyplot as plt"
      ],
      "execution_count": 0,
      "outputs": []
    },
    {
      "cell_type": "code",
      "metadata": {
        "id": "_JA6l_imSfYb",
        "colab_type": "code",
        "colab": {}
      },
      "source": [
        "a = a.astype('float32')\n",
        "mean=np.mean(a)\n",
        "sd=np.std(a)\n",
        "a = a-mean\n",
        "a = a/sd\n",
        "#print(a)"
      ],
      "execution_count": 0,
      "outputs": []
    },
    {
      "cell_type": "code",
      "metadata": {
        "id": "aiPzwA5BQHUo",
        "colab_type": "code",
        "outputId": "afd7474d-1b49-421d-dc42-df14b0ac5493",
        "colab": {
          "base_uri": "https://localhost:8080/",
          "height": 425
        }
      },
      "source": [
        "model = models.Sequential()\n",
        "model.add(layers.Conv2D(6, (5, 5), activation='relu', strides=(1,1), padding='valid', input_shape=(300, 300, 3)))\n",
        "model.add(layers.MaxPooling2D((2, 2)))\n",
        "\n",
        "model.add(layers.Conv2D(16, (5, 5), activation='relu', strides=(1,1), padding='valid'))\n",
        "model.add(layers.MaxPooling2D((2, 2)))\n",
        "\n",
        "model.add(layers.Flatten())\n",
        "\n",
        "model.add(layers.Dense(128, activation='relu'))\n",
        "model.add(layers.Dense(84, activation='relu'))\n",
        "\n",
        "model.add(layers.Dense(2, activation=\"softmax\"))\n",
        "model.summary()"
      ],
      "execution_count": 0,
      "outputs": [
        {
          "output_type": "stream",
          "text": [
            "Model: \"sequential\"\n",
            "_________________________________________________________________\n",
            "Layer (type)                 Output Shape              Param #   \n",
            "=================================================================\n",
            "conv2d (Conv2D)              (None, 296, 296, 6)       456       \n",
            "_________________________________________________________________\n",
            "max_pooling2d (MaxPooling2D) (None, 148, 148, 6)       0         \n",
            "_________________________________________________________________\n",
            "conv2d_1 (Conv2D)            (None, 144, 144, 16)      2416      \n",
            "_________________________________________________________________\n",
            "max_pooling2d_1 (MaxPooling2 (None, 72, 72, 16)        0         \n",
            "_________________________________________________________________\n",
            "flatten (Flatten)            (None, 82944)             0         \n",
            "_________________________________________________________________\n",
            "dense (Dense)                (None, 128)               10616960  \n",
            "_________________________________________________________________\n",
            "dense_1 (Dense)              (None, 84)                10836     \n",
            "_________________________________________________________________\n",
            "dense_2 (Dense)              (None, 2)                 170       \n",
            "=================================================================\n",
            "Total params: 10,630,838\n",
            "Trainable params: 10,630,838\n",
            "Non-trainable params: 0\n",
            "_________________________________________________________________\n"
          ],
          "name": "stdout"
        }
      ]
    },
    {
      "cell_type": "code",
      "metadata": {
        "id": "Dmx4l3r1V1-h",
        "colab_type": "code",
        "outputId": "d054e637-4a03-4fc2-fc83-ff9a64b79d66",
        "colab": {
          "base_uri": "https://localhost:8080/",
          "height": 374
        }
      },
      "source": [
        "model.compile(optimizer='sgd',loss=tf.keras.losses.SparseCategoricalCrossentropy(from_logits=True),metrics=['accuracy'])\n",
        "\n",
        "model.fit(a, b, epochs=10, validation_split=0.2)"
      ],
      "execution_count": 0,
      "outputs": [
        {
          "output_type": "stream",
          "text": [
            "Epoch 1/10\n",
            "126/126 [==============================] - 174s 1s/step - loss: 0.5265 - accuracy: 0.7922 - val_loss: 0.5314 - val_accuracy: 0.7629\n",
            "Epoch 2/10\n",
            "126/126 [==============================] - 178s 1s/step - loss: 0.4171 - accuracy: 0.9008 - val_loss: 0.5180 - val_accuracy: 0.7827\n",
            "Epoch 3/10\n",
            "126/126 [==============================] - 178s 1s/step - loss: 0.3932 - accuracy: 0.9214 - val_loss: 0.4968 - val_accuracy: 0.8085\n",
            "Epoch 4/10\n",
            "126/126 [==============================] - 177s 1s/step - loss: 0.3833 - accuracy: 0.9318 - val_loss: 0.4906 - val_accuracy: 0.8165\n",
            "Epoch 5/10\n",
            "126/126 [==============================] - 182s 1s/step - loss: 0.3735 - accuracy: 0.9402 - val_loss: 0.4739 - val_accuracy: 0.8284\n",
            "Epoch 6/10\n",
            "126/126 [==============================] - 178s 1s/step - loss: 0.3739 - accuracy: 0.9375 - val_loss: 0.5287 - val_accuracy: 0.7748\n",
            "Epoch 7/10\n",
            "126/126 [==============================] - 177s 1s/step - loss: 0.3632 - accuracy: 0.9529 - val_loss: 0.4727 - val_accuracy: 0.8383\n",
            "Epoch 8/10\n",
            "126/126 [==============================] - 177s 1s/step - loss: 0.3589 - accuracy: 0.9566 - val_loss: 0.4506 - val_accuracy: 0.8562\n",
            "Epoch 9/10\n",
            "126/126 [==============================] - 178s 1s/step - loss: 0.3573 - accuracy: 0.9563 - val_loss: 0.4446 - val_accuracy: 0.8651\n",
            "Epoch 10/10\n",
            "126/126 [==============================] - 181s 1s/step - loss: 0.3512 - accuracy: 0.9635 - val_loss: 0.4315 - val_accuracy: 0.8790\n"
          ],
          "name": "stdout"
        },
        {
          "output_type": "execute_result",
          "data": {
            "text/plain": [
              "<tensorflow.python.keras.callbacks.History at 0x7fdb61d96630>"
            ]
          },
          "metadata": {
            "tags": []
          },
          "execution_count": 7
        }
      ]
    }
  ]
}