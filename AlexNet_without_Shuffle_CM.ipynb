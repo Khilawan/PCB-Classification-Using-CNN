{
  "nbformat": 4,
  "nbformat_minor": 0,
  "metadata": {
    "colab": {
      "name": "AlexNet_without_Shuffle_CM.ipynb",
      "provenance": [],
      "machine_shape": "hm"
    },
    "kernelspec": {
      "name": "python3",
      "display_name": "Python 3"
    }
  },
  "cells": [
    {
      "cell_type": "code",
      "metadata": {
        "id": "nyyIwWRgQg5T",
        "colab_type": "code",
        "colab": {}
      },
      "source": [
        "from google.colab import drive\n",
        "drive.mount('/content/drive') "
      ],
      "execution_count": 0,
      "outputs": []
    },
    {
      "cell_type": "code",
      "metadata": {
        "id": "jwHgR9HkQ6kx",
        "colab_type": "code",
        "colab": {}
      },
      "source": [
        "import os\n",
        "os.chdir('/content/drive/My Drive/Colab Notebooks/DL/')"
      ],
      "execution_count": 0,
      "outputs": []
    },
    {
      "cell_type": "code",
      "metadata": {
        "id": "h6MEGE1dR2yZ",
        "colab_type": "code",
        "colab": {}
      },
      "source": [
        "import tensorflow as tf\n",
        "from tensorflow.keras import layers, models\n",
        "import matplotlib.pyplot as plt\n",
        "import keras\n",
        "from keras.models import Sequential\n",
        "from keras import optimizers\n",
        "from keras.layers import Dense, Activation, Dropout, Flatten,Conv2D, MaxPooling2D\n",
        "from keras.layers.normalization import BatchNormalization\n",
        "import numpy as np"
      ],
      "execution_count": 0,
      "outputs": []
    },
    {
      "cell_type": "code",
      "metadata": {
        "id": "Aajqx1NCR64o",
        "colab_type": "code",
        "outputId": "4c354394-d641-4a17-edd9-d8d504f766ad",
        "colab": {
          "base_uri": "https://localhost:8080/",
          "height": 51
        }
      },
      "source": [
        "X=np.load(\"s_x_train.npy\")\n",
        "y=np.load(\"s_y_train.npy\")\n",
        "print(X.shape)\n",
        "print(y.shape)"
      ],
      "execution_count": 0,
      "outputs": [
        {
          "output_type": "stream",
          "text": [
            "(5040, 300, 300, 3)\n",
            "(5040,)\n"
          ],
          "name": "stdout"
        }
      ]
    },
    {
      "cell_type": "code",
      "metadata": {
        "id": "iG1EXTrSR9n8",
        "colab_type": "code",
        "colab": {}
      },
      "source": [
        "X = X.astype('float32')\n",
        "\n",
        "mean = np.mean(X)\n",
        "std = np.std(X)\n",
        "#print(mean)\n",
        "#print(std)\n",
        "\n",
        "X -=mean\n",
        "X /=std"
      ],
      "execution_count": 0,
      "outputs": []
    },
    {
      "cell_type": "code",
      "metadata": {
        "id": "pmD11BiFSAck",
        "colab_type": "code",
        "outputId": "1592c029-c66c-4956-b2ec-26fd19e2101c",
        "colab": {
          "base_uri": "https://localhost:8080/",
          "height": 867
        }
      },
      "source": [
        "model = models.Sequential()\n",
        "\n",
        "# 1st Convolutional Layer\n",
        "model.add(layers.Conv2D(input_shape=(300,300,3),filters=96,kernel_size=(11,11), strides=(4,4), padding=\"valid\", activation=\"relu\")) \n",
        "model.add(layers.MaxPooling2D(pool_size=(3,3), strides=(2,2), padding='valid'))\n",
        "# Batch Normalisation before passing it to the next layer\n",
        "model.add(layers.BatchNormalization())\n",
        "\n",
        "# 2nd Convolutional Layer\n",
        "model.add(layers.Conv2D(filters=256, kernel_size=(5,5), strides=(1,1), padding='valid', activation='relu'))\n",
        "# Pooling\n",
        "model.add(layers.MaxPooling2D(pool_size=(3,3), strides=(2,2), padding='valid'))\n",
        "# Batch Normalisation\n",
        "model.add(layers.BatchNormalization())\n",
        "\n",
        "# 3rd Convolutional Layer\n",
        "model.add(layers.Conv2D(filters=384, kernel_size=(3,3), strides=(1,1), padding='valid', activation='relu'))\n",
        "# Batch Normalisation\n",
        "model.add(layers.BatchNormalization())\n",
        "\n",
        "# 4th Convolutional Layer\n",
        "model.add(layers.Conv2D(filters=384, kernel_size=(3,3), strides=(1,1), padding='valid', activation='relu'))\n",
        "# Batch Normalisation\n",
        "model.add(layers.BatchNormalization())\n",
        "\n",
        "# 5th Convolutional Layer\n",
        "model.add(layers.Conv2D(filters=256, kernel_size=(3,3), strides=(1,1), padding='valid', activation='relu'))\n",
        "# Pooling\n",
        "model.add(layers.MaxPooling2D(pool_size=(3,3), strides=(2,2), padding='valid'))\n",
        "# Batch Normalisation\n",
        "model.add(layers.BatchNormalization())\n",
        "\n",
        "# Passing it to a dense layer\n",
        "model.add(layers.Flatten())\n",
        "# 1st Dense Layer\n",
        "model.add(layers.Dense(4096, activation='relu'))\n",
        "# Adding Dropout to prevent overfitting\n",
        "model.add(layers.Dropout(0.5))\n",
        "# Batch Normalisation\n",
        "model.add(layers.BatchNormalization())\n",
        "\n",
        "# 2nd Dense Layer\n",
        "model.add(layers.Dense(4096, activation='relu'))\n",
        "# Adding Dropout\n",
        "model.add(layers.Dropout(0.5))\n",
        "# Batch Normalisation\n",
        "model.add(layers.BatchNormalization())\n",
        "\n",
        "# Output Layer\n",
        "model.add(layers.Dense(2, activation='softmax'))\n",
        "\n",
        "model.summary()"
      ],
      "execution_count": 0,
      "outputs": [
        {
          "output_type": "stream",
          "text": [
            "Model: \"sequential\"\n",
            "_________________________________________________________________\n",
            "Layer (type)                 Output Shape              Param #   \n",
            "=================================================================\n",
            "conv2d (Conv2D)              (None, 73, 73, 96)        34944     \n",
            "_________________________________________________________________\n",
            "max_pooling2d (MaxPooling2D) (None, 36, 36, 96)        0         \n",
            "_________________________________________________________________\n",
            "batch_normalization (BatchNo (None, 36, 36, 96)        384       \n",
            "_________________________________________________________________\n",
            "conv2d_1 (Conv2D)            (None, 32, 32, 256)       614656    \n",
            "_________________________________________________________________\n",
            "max_pooling2d_1 (MaxPooling2 (None, 15, 15, 256)       0         \n",
            "_________________________________________________________________\n",
            "batch_normalization_1 (Batch (None, 15, 15, 256)       1024      \n",
            "_________________________________________________________________\n",
            "conv2d_2 (Conv2D)            (None, 13, 13, 384)       885120    \n",
            "_________________________________________________________________\n",
            "batch_normalization_2 (Batch (None, 13, 13, 384)       1536      \n",
            "_________________________________________________________________\n",
            "conv2d_3 (Conv2D)            (None, 11, 11, 384)       1327488   \n",
            "_________________________________________________________________\n",
            "batch_normalization_3 (Batch (None, 11, 11, 384)       1536      \n",
            "_________________________________________________________________\n",
            "conv2d_4 (Conv2D)            (None, 9, 9, 256)         884992    \n",
            "_________________________________________________________________\n",
            "max_pooling2d_2 (MaxPooling2 (None, 4, 4, 256)         0         \n",
            "_________________________________________________________________\n",
            "batch_normalization_4 (Batch (None, 4, 4, 256)         1024      \n",
            "_________________________________________________________________\n",
            "flatten (Flatten)            (None, 4096)              0         \n",
            "_________________________________________________________________\n",
            "dense (Dense)                (None, 4096)              16781312  \n",
            "_________________________________________________________________\n",
            "dropout (Dropout)            (None, 4096)              0         \n",
            "_________________________________________________________________\n",
            "batch_normalization_5 (Batch (None, 4096)              16384     \n",
            "_________________________________________________________________\n",
            "dense_1 (Dense)              (None, 4096)              16781312  \n",
            "_________________________________________________________________\n",
            "dropout_1 (Dropout)          (None, 4096)              0         \n",
            "_________________________________________________________________\n",
            "batch_normalization_6 (Batch (None, 4096)              16384     \n",
            "_________________________________________________________________\n",
            "dense_2 (Dense)              (None, 2)                 8194      \n",
            "=================================================================\n",
            "Total params: 37,356,290\n",
            "Trainable params: 37,337,154\n",
            "Non-trainable params: 19,136\n",
            "_________________________________________________________________\n"
          ],
          "name": "stdout"
        }
      ]
    },
    {
      "cell_type": "code",
      "metadata": {
        "id": "yRuFTkHlS4od",
        "colab_type": "code",
        "colab": {}
      },
      "source": [
        "import numpy as np\n",
        "import sklearn\n",
        "from sklearn.metrics import classification_report,confusion_matrix\n",
        "from sklearn.model_selection import train_test_split\n",
        "import itertools"
      ],
      "execution_count": 0,
      "outputs": []
    },
    {
      "cell_type": "code",
      "metadata": {
        "id": "nh_Zb4HNSG_K",
        "colab_type": "code",
        "colab": {}
      },
      "source": [
        "x_train,x_test,y_train,y_test=train_test_split(X,y,test_size=0.2)"
      ],
      "execution_count": 0,
      "outputs": []
    },
    {
      "cell_type": "code",
      "metadata": {
        "id": "UR3sTzgzSRk6",
        "colab_type": "code",
        "colab": {}
      },
      "source": [
        "model.compile(optimizer='sgd',loss=tf.keras.losses.SparseCategoricalCrossentropy(from_logits=True),metrics=['accuracy'])"
      ],
      "execution_count": 0,
      "outputs": []
    },
    {
      "cell_type": "code",
      "metadata": {
        "id": "H8XfOcBrTRtt",
        "colab_type": "code",
        "outputId": "ec9fefce-3667-4249-951c-4dff3822c49e",
        "colab": {
          "base_uri": "https://localhost:8080/",
          "height": 357
        }
      },
      "source": [
        "history = model.fit(x_train, y_train, epochs=10, validation_split=0.2)"
      ],
      "execution_count": 0,
      "outputs": [
        {
          "output_type": "stream",
          "text": [
            "Epoch 1/10\n",
            "101/101 [==============================] - 268s 3s/step - loss: 0.4212 - accuracy: 0.8899 - val_loss: 0.4246 - val_accuracy: 0.8971\n",
            "Epoch 2/10\n",
            "101/101 [==============================] - 267s 3s/step - loss: 0.4020 - accuracy: 0.9113 - val_loss: 0.3687 - val_accuracy: 0.9455\n",
            "Epoch 3/10\n",
            "101/101 [==============================] - 266s 3s/step - loss: 0.3809 - accuracy: 0.9318 - val_loss: 0.3530 - val_accuracy: 0.9579\n",
            "Epoch 4/10\n",
            "101/101 [==============================] - 267s 3s/step - loss: 0.3714 - accuracy: 0.9402 - val_loss: 0.3448 - val_accuracy: 0.9690\n",
            "Epoch 5/10\n",
            "101/101 [==============================] - 264s 3s/step - loss: 0.3567 - accuracy: 0.9597 - val_loss: 0.3400 - val_accuracy: 0.9765\n",
            "Epoch 6/10\n",
            "101/101 [==============================] - 262s 3s/step - loss: 0.3568 - accuracy: 0.9575 - val_loss: 0.3481 - val_accuracy: 0.9628\n",
            "Epoch 7/10\n",
            "101/101 [==============================] - 262s 3s/step - loss: 0.3503 - accuracy: 0.9631 - val_loss: 0.3363 - val_accuracy: 0.9777\n",
            "Epoch 8/10\n",
            "101/101 [==============================] - 262s 3s/step - loss: 0.3436 - accuracy: 0.9712 - val_loss: 0.3387 - val_accuracy: 0.9740\n",
            "Epoch 9/10\n",
            "101/101 [==============================] - 261s 3s/step - loss: 0.3421 - accuracy: 0.9730 - val_loss: 0.3297 - val_accuracy: 0.9839\n",
            "Epoch 10/10\n",
            "101/101 [==============================] - 260s 3s/step - loss: 0.3350 - accuracy: 0.9798 - val_loss: 0.3325 - val_accuracy: 0.9814\n"
          ],
          "name": "stdout"
        }
      ]
    },
    {
      "cell_type": "code",
      "metadata": {
        "id": "i228Xgv9TXgB",
        "colab_type": "code",
        "outputId": "83d2cbde-efbf-4ee7-bb2d-b035c441c529",
        "colab": {
          "base_uri": "https://localhost:8080/",
          "height": 221
        }
      },
      "source": [
        "Y_pred = model.predict(x_test)\n",
        "y_pred = np.argmax(Y_pred, axis=1)\n",
        "print(sklearn.metrics.confusion_matrix(y_test, y_pred, labels=None, sample_weight=None, normalize=None))\n",
        "print ('Report : ')\n",
        "print (classification_report(y_test, y_pred)) "
      ],
      "execution_count": 0,
      "outputs": [
        {
          "output_type": "stream",
          "text": [
            "[[485  10]\n",
            " [ 23 490]]\n",
            "Report : \n",
            "              precision    recall  f1-score   support\n",
            "\n",
            "         0.0       0.95      0.98      0.97       495\n",
            "         1.0       0.98      0.96      0.97       513\n",
            "\n",
            "    accuracy                           0.97      1008\n",
            "   macro avg       0.97      0.97      0.97      1008\n",
            "weighted avg       0.97      0.97      0.97      1008\n",
            "\n"
          ],
          "name": "stdout"
        }
      ]
    }
  ]
}