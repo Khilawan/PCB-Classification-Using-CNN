{
  "nbformat": 4,
  "nbformat_minor": 0,
  "metadata": {
    "colab": {
      "name": "Confusion Matrix Lenet5.ipynb",
      "provenance": [],
      "machine_shape": "hm"
    },
    "kernelspec": {
      "name": "python3",
      "display_name": "Python 3"
    }
  },
  "cells": [
    {
      "cell_type": "code",
      "metadata": {
        "id": "qnq8sOktgs3d",
        "colab_type": "code",
        "colab": {}
      },
      "source": [
        "from google.colab import drive\n",
        "drive.mount('/content/drive')"
      ],
      "execution_count": 0,
      "outputs": []
    },
    {
      "cell_type": "code",
      "metadata": {
        "id": "9HoN002aguMP",
        "colab_type": "code",
        "colab": {}
      },
      "source": [
        "import os\n",
        "os.chdir('/content/drive/My Drive/Colab Notebooks/DL/')"
      ],
      "execution_count": 0,
      "outputs": []
    },
    {
      "cell_type": "code",
      "metadata": {
        "id": "6vQgzTLnhNy0",
        "colab_type": "code",
        "outputId": "ed4afc2f-5c52-42d0-9dd6-9f74c44e719f",
        "colab": {
          "base_uri": "https://localhost:8080/",
          "height": 51
        }
      },
      "source": [
        "import numpy as np\n",
        "a=np.load(\"s_x_train.npy\")\n",
        "b=np.load(\"s_y_train.npy\")\n",
        "print(a.shape)\n",
        "print(b.shape)"
      ],
      "execution_count": 0,
      "outputs": [
        {
          "output_type": "stream",
          "text": [
            "(5040, 300, 300, 3)\n",
            "(5040,)\n"
          ],
          "name": "stdout"
        }
      ]
    },
    {
      "cell_type": "code",
      "metadata": {
        "id": "Olx909hphOjF",
        "colab_type": "code",
        "colab": {}
      },
      "source": [
        "import tensorflow as tf\n",
        "from sklearn.model_selection import train_test_split\n",
        "from tensorflow.keras import layers, models\n",
        "import matplotlib.pyplot as plt\n"
      ],
      "execution_count": 0,
      "outputs": []
    },
    {
      "cell_type": "code",
      "metadata": {
        "id": "UKQtKp4_hWzf",
        "colab_type": "code",
        "colab": {}
      },
      "source": [
        "a = a.astype('float32')\n",
        "mean=np.mean(a)\n",
        "sd=np.std(a)\n",
        "a = a-mean\n",
        "a = a/sd\n",
        "#print(a)"
      ],
      "execution_count": 0,
      "outputs": []
    },
    {
      "cell_type": "code",
      "metadata": {
        "id": "JC3Jt_gthX95",
        "colab_type": "code",
        "outputId": "06bf4cdf-7579-4c3e-8916-18a998abbd77",
        "colab": {
          "base_uri": "https://localhost:8080/",
          "height": 425
        }
      },
      "source": [
        "model = models.Sequential()\n",
        "model.add(layers.Conv2D(6, (5, 5), activation='relu', strides=(1,1), padding='valid', input_shape=(300, 300, 3)))\n",
        "model.add(layers.MaxPooling2D((2, 2)))\n",
        "\n",
        "model.add(layers.Conv2D(16, (5, 5), activation='relu', strides=(1,1), padding='valid'))\n",
        "model.add(layers.MaxPooling2D((2, 2)))\n",
        "\n",
        "model.add(layers.Flatten())\n",
        "\n",
        "model.add(layers.Dense(128, activation='relu'))\n",
        "model.add(layers.Dense(84, activation='relu'))\n",
        "\n",
        "model.add(layers.Dense(2, activation=\"softmax\"))\n",
        "model.summary()"
      ],
      "execution_count": 0,
      "outputs": [
        {
          "output_type": "stream",
          "text": [
            "Model: \"sequential\"\n",
            "_________________________________________________________________\n",
            "Layer (type)                 Output Shape              Param #   \n",
            "=================================================================\n",
            "conv2d (Conv2D)              (None, 296, 296, 6)       456       \n",
            "_________________________________________________________________\n",
            "max_pooling2d (MaxPooling2D) (None, 148, 148, 6)       0         \n",
            "_________________________________________________________________\n",
            "conv2d_1 (Conv2D)            (None, 144, 144, 16)      2416      \n",
            "_________________________________________________________________\n",
            "max_pooling2d_1 (MaxPooling2 (None, 72, 72, 16)        0         \n",
            "_________________________________________________________________\n",
            "flatten (Flatten)            (None, 82944)             0         \n",
            "_________________________________________________________________\n",
            "dense (Dense)                (None, 128)               10616960  \n",
            "_________________________________________________________________\n",
            "dense_1 (Dense)              (None, 84)                10836     \n",
            "_________________________________________________________________\n",
            "dense_2 (Dense)              (None, 2)                 170       \n",
            "=================================================================\n",
            "Total params: 10,630,838\n",
            "Trainable params: 10,630,838\n",
            "Non-trainable params: 0\n",
            "_________________________________________________________________\n"
          ],
          "name": "stdout"
        }
      ]
    },
    {
      "cell_type": "code",
      "metadata": {
        "id": "3XpTKW1fhfj0",
        "colab_type": "code",
        "colab": {}
      },
      "source": [
        "x_train,x_test,y_train,y_test=train_test_split(a,b,test_size=0.2)"
      ],
      "execution_count": 0,
      "outputs": []
    },
    {
      "cell_type": "code",
      "metadata": {
        "id": "AK0XDvDkhb1z",
        "colab_type": "code",
        "colab": {}
      },
      "source": [
        "model.compile(optimizer='sgd',loss=tf.keras.losses.SparseCategoricalCrossentropy(from_logits=True),metrics=['accuracy'])\n"
      ],
      "execution_count": 0,
      "outputs": []
    },
    {
      "cell_type": "code",
      "metadata": {
        "id": "M0GbzUhnB8Zu",
        "colab_type": "code",
        "outputId": "96b4e22c-420f-469f-d500-4e27d667fd7a",
        "colab": {
          "base_uri": "https://localhost:8080/",
          "height": 357
        }
      },
      "source": [
        "history = model.fit(x_train, y_train, epochs=10, validation_split=0.2)"
      ],
      "execution_count": 0,
      "outputs": [
        {
          "output_type": "stream",
          "text": [
            "Epoch 1/10\n",
            "101/101 [==============================] - 130s 1s/step - loss: 0.5383 - accuracy: 0.7988 - val_loss: 0.4990 - val_accuracy: 0.8104\n",
            "Epoch 2/10\n",
            "101/101 [==============================] - 143s 1s/step - loss: 0.4419 - accuracy: 0.8834 - val_loss: 0.4371 - val_accuracy: 0.8773\n",
            "Epoch 3/10\n",
            "101/101 [==============================] - 130s 1s/step - loss: 0.4067 - accuracy: 0.9073 - val_loss: 0.4231 - val_accuracy: 0.8922\n",
            "Epoch 4/10\n",
            "101/101 [==============================] - 130s 1s/step - loss: 0.3925 - accuracy: 0.9237 - val_loss: 0.4302 - val_accuracy: 0.8848\n",
            "Epoch 5/10\n",
            "101/101 [==============================] - 130s 1s/step - loss: 0.3813 - accuracy: 0.9327 - val_loss: 0.4097 - val_accuracy: 0.9009\n",
            "Epoch 6/10\n",
            "101/101 [==============================] - 132s 1s/step - loss: 0.3749 - accuracy: 0.9411 - val_loss: 0.4079 - val_accuracy: 0.9133\n",
            "Epoch 7/10\n",
            "101/101 [==============================] - 133s 1s/step - loss: 0.3693 - accuracy: 0.9482 - val_loss: 0.3896 - val_accuracy: 0.9318\n",
            "Epoch 8/10\n",
            "101/101 [==============================] - 132s 1s/step - loss: 0.3639 - accuracy: 0.9522 - val_loss: 0.3992 - val_accuracy: 0.9182\n",
            "Epoch 9/10\n",
            "101/101 [==============================] - 143s 1s/step - loss: 0.3633 - accuracy: 0.9516 - val_loss: 0.5011 - val_accuracy: 0.8178\n",
            "Epoch 10/10\n",
            "101/101 [==============================] - 128s 1s/step - loss: 0.3606 - accuracy: 0.9544 - val_loss: 0.3919 - val_accuracy: 0.9244\n"
          ],
          "name": "stdout"
        }
      ]
    },
    {
      "cell_type": "code",
      "metadata": {
        "id": "_ohcGpP2ANuC",
        "colab_type": "code",
        "colab": {}
      },
      "source": [
        "import numpy as np\n",
        "import sklearn\n",
        "from sklearn.metrics import classification_report,confusion_matrix\n",
        "import itertools"
      ],
      "execution_count": 0,
      "outputs": []
    },
    {
      "cell_type": "code",
      "metadata": {
        "id": "wsfOEpbADInh",
        "colab_type": "code",
        "outputId": "f5db1112-9552-4156-d43a-e9dd65721a86",
        "colab": {
          "base_uri": "https://localhost:8080/",
          "height": 221
        }
      },
      "source": [
        "Y_pred = model.predict(x_test)\n",
        "y_pred = np.argmax(Y_pred, axis=1)\n",
        "print(sklearn.metrics.confusion_matrix(y_test, y_pred, labels=None, sample_weight=None, normalize=None))\n",
        "print ('Report : ')\n",
        "print (classification_report(y_test, y_pred)) \n",
        "#print(classification_report(np.argmax(y_test), y_pred,target_names=target_names))"
      ],
      "execution_count": 0,
      "outputs": [
        {
          "output_type": "stream",
          "text": [
            "[[479  15]\n",
            " [ 69 445]]\n",
            "Report : \n",
            "              precision    recall  f1-score   support\n",
            "\n",
            "         0.0       0.87      0.97      0.92       494\n",
            "         1.0       0.97      0.87      0.91       514\n",
            "\n",
            "    accuracy                           0.92      1008\n",
            "   macro avg       0.92      0.92      0.92      1008\n",
            "weighted avg       0.92      0.92      0.92      1008\n",
            "\n"
          ],
          "name": "stdout"
        }
      ]
    }
  ]
}